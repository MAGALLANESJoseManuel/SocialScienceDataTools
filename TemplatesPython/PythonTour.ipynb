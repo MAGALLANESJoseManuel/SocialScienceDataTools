{
 "metadata": {
  "name": ""
 },
 "nbformat": 3,
 "nbformat_minor": 0,
 "worksheets": [
  {
   "cells": [
    {
     "cell_type": "heading",
     "level": 1,
     "metadata": {},
     "source": [
      "<font color='blue'>A Python Tour</font>"
     ]
    },
    {
     "cell_type": "markdown",
     "metadata": {},
     "source": [
      "<font color='darkred'><b>Dr. Jos\u00e9 Manuel MAGALLANES</b></font>  \n",
      "Researcher at Center for Social Complexity, George Mason University  (jmagalla@gmu.edu)  \n",
      "Professor at Department of Social Sciences, Pontificia Universidad Catolica del Peru (jmagallanes@pucp.edu)"
     ]
    },
    {
     "cell_type": "markdown",
     "metadata": {},
     "source": [
      "I will present some tools that Python has to organise data that is on the web. Python is very efficient for web scrapping, particularly making use of pair of libraries, which I will call first:"
     ]
    },
    {
     "cell_type": "code",
     "collapsed": false,
     "input": [
      "from bs4 import BeautifulSoup as BS\n",
      "import urllib2"
     ],
     "language": "python",
     "metadata": {},
     "outputs": [],
     "prompt_number": 1
    },
    {
     "cell_type": "markdown",
     "metadata": {},
     "source": [
      "The first step to get the data is to give the **[link](http://en.wikipedia.org/wiki/List_of_border_wars)** where the data is:"
     ]
    },
    {
     "cell_type": "code",
     "collapsed": false,
     "input": [
      "#URL\n",
      "WhereInWWW='http://en.wikipedia.org/wiki/List_of_border_wars'"
     ],
     "language": "python",
     "metadata": {},
     "outputs": [],
     "prompt_number": 2
    },
    {
     "cell_type": "markdown",
     "metadata": {},
     "source": [
      "From here, we need to get the html from that url:"
     ]
    },
    {
     "cell_type": "code",
     "collapsed": false,
     "input": [
      "# get HTML\n",
      "identification = { 'User-Agent' : 'Mozilla/4.0 (compatible; MSIE 5.5; Windows NT)'}\n",
      "requestToServer = urllib2.Request(WhereInWWW,headers=identification)\n",
      "responseFromServerInHTML = urllib2.urlopen(requestToServer)"
     ],
     "language": "python",
     "metadata": {},
     "outputs": [],
     "prompt_number": 3
    },
    {
     "cell_type": "markdown",
     "metadata": {},
     "source": [
      "I have made a *request* to the server, giving my **identification** (so that the probability that I get served *improves*), and when I get a *response*, I use it in *BS* (beautiful soup) like this:"
     ]
    },
    {
     "cell_type": "code",
     "collapsed": false,
     "input": [
      "#now BS wil be in charge!\n",
      "soup = BS(responseFromServerInHTML,'lxml')  #lxml is not the default parser. Wanna omitting it?.\n",
      "# print  (soup.prettify()) # uncomment to see the WHOLE result."
     ],
     "language": "python",
     "metadata": {},
     "outputs": [],
     "prompt_number": 4
    },
    {
     "cell_type": "markdown",
     "metadata": {},
     "source": [
      "Let's see what we have so far:"
     ]
    },
    {
     "cell_type": "code",
     "collapsed": false,
     "input": [
      "### getting title, first try\n",
      "print soup.find_all('h1') #there should be one HEADER level 1, right?"
     ],
     "language": "python",
     "metadata": {},
     "outputs": [
      {
       "output_type": "stream",
       "stream": "stdout",
       "text": [
        "[<h1 class=\"firstHeading\" id=\"firstHeading\" lang=\"en\"><span dir=\"auto\">List of border conflicts</span></h1>]\n"
       ]
      }
     ],
     "prompt_number": 5
    },
    {
     "cell_type": "markdown",
     "metadata": {},
     "source": [
      "I got the html in a bracket!...so it is a list with one element:"
     ]
    },
    {
     "cell_type": "code",
     "collapsed": false,
     "input": [
      "### getting title, second try (going into the \"span\" tag)\n",
      "print soup.find_all('h1')[0].span  #notice I use the index 0 to acces the first element of the list!"
     ],
     "language": "python",
     "metadata": {},
     "outputs": [
      {
       "output_type": "stream",
       "stream": "stdout",
       "text": [
        "<span dir=\"auto\">List of border conflicts</span>\n"
       ]
      }
     ],
     "prompt_number": 6
    },
    {
     "cell_type": "code",
     "collapsed": false,
     "input": [
      "### getting title, third try\n",
      "print soup.find_all('h1')[0].span.string #the text in the tag \"span\""
     ],
     "language": "python",
     "metadata": {},
     "outputs": [
      {
       "output_type": "stream",
       "stream": "stdout",
       "text": [
        "List of border conflicts\n"
       ]
      }
     ],
     "prompt_number": 7
    },
    {
     "cell_type": "code",
     "collapsed": false,
     "input": [
      "### getting title, altenative to third try\n",
      "print soup.find_all('h1')[0].span.get_text()"
     ],
     "language": "python",
     "metadata": {},
     "outputs": [
      {
       "output_type": "stream",
       "stream": "stdout",
       "text": [
        "List of border conflicts\n"
       ]
      }
     ],
     "prompt_number": 8
    },
    {
     "cell_type": "markdown",
     "metadata": {},
     "source": [
      "**KEEP IN MIND** that they **string** and **get_text()** do not always give you the same result (see details [here](http://omz-software.com/pythonista/docs/ios/beautifulsoup_ref.html)):"
     ]
    },
    {
     "cell_type": "code",
     "collapsed": false,
     "input": [
      "someHtml = \"<title>Normal text and <b>text in bold<b></title>\"\n",
      "soup = BS(someHtml)"
     ],
     "language": "python",
     "metadata": {},
     "outputs": [],
     "prompt_number": 9
    },
    {
     "cell_type": "code",
     "collapsed": false,
     "input": [
      "print soup.get_text()"
     ],
     "language": "python",
     "metadata": {},
     "outputs": [
      {
       "output_type": "stream",
       "stream": "stdout",
       "text": [
        "Normal text and text in bold\n"
       ]
      }
     ],
     "prompt_number": 10
    },
    {
     "cell_type": "code",
     "collapsed": false,
     "input": [
      "print soup.string"
     ],
     "language": "python",
     "metadata": {},
     "outputs": [
      {
       "output_type": "stream",
       "stream": "stdout",
       "text": [
        "None\n"
       ]
      }
     ],
     "prompt_number": 11
    },
    {
     "cell_type": "markdown",
     "metadata": {},
     "source": [
      "Different from the R [example](http://rpubs.com/jmagallanes/dataGathering) wher we just got a table, we are navigating the whole html of the wikipage. This flexibility will allow us to do interesting things. But let's continue getting familiar with BS:"
     ]
    },
    {
     "cell_type": "code",
     "collapsed": false,
     "input": [
      "# get HTML\n",
      "identification = { 'User-Agent' : 'Mozilla/4.0 (compatible; MSIE 5.5; Windows NT)'}\n",
      "requestToServer = urllib2.Request(WhereInWWW,headers=identification)\n",
      "responseFromServerInHTML = urllib2.urlopen(requestToServer)\n",
      "soup = BS(responseFromServerInHTML,'lxml') \n",
      "\n",
      "#subtitles try 1\n",
      "for item in soup.find_all('h2'):\n",
      "    print item.span"
     ],
     "language": "python",
     "metadata": {},
     "outputs": [
      {
       "output_type": "stream",
       "stream": "stdout",
       "text": [
        "None\n",
        "<span class=\"mw-headline\" id=\"19th_Century\">19th Century</span>\n",
        "<span class=\"mw-headline\" id=\"20th_Century_before_World_War_II\">20th Century before World War II</span>\n",
        "<span class=\"mw-headline\" id=\"1945-2000\">1945-2000</span>\n",
        "<span class=\"mw-headline\" id=\"21st_Century\">21st Century</span>\n",
        "<span class=\"mw-headline\" id=\"See_also\">See also</span>\n",
        "<span class=\"mw-headline\" id=\"References\">References</span>\n",
        "None\n"
       ]
      }
     ],
     "prompt_number": 12
    },
    {
     "cell_type": "code",
     "collapsed": false,
     "input": [
      "###subtitles try 2\n",
      "for subtitle in soup.find_all('h2'):\n",
      "    print subtitle.span.string"
     ],
     "language": "python",
     "metadata": {},
     "outputs": [
      {
       "ename": "AttributeError",
       "evalue": "'NoneType' object has no attribute 'string'",
       "output_type": "pyerr",
       "traceback": [
        "\u001b[0;31m---------------------------------------------------------------------------\u001b[0m\n\u001b[0;31mAttributeError\u001b[0m                            Traceback (most recent call last)",
        "\u001b[0;32m<ipython-input-13-7b7fdeb5bebc>\u001b[0m in \u001b[0;36m<module>\u001b[0;34m()\u001b[0m\n\u001b[1;32m      1\u001b[0m \u001b[0;31m###subtitles try 2\u001b[0m\u001b[0;34m\u001b[0m\u001b[0;34m\u001b[0m\u001b[0m\n\u001b[1;32m      2\u001b[0m \u001b[0;32mfor\u001b[0m \u001b[0msubtitle\u001b[0m \u001b[0;32min\u001b[0m \u001b[0msoup\u001b[0m\u001b[0;34m.\u001b[0m\u001b[0mfind_all\u001b[0m\u001b[0;34m(\u001b[0m\u001b[0;34m'h2'\u001b[0m\u001b[0;34m)\u001b[0m\u001b[0;34m:\u001b[0m\u001b[0;34m\u001b[0m\u001b[0m\n\u001b[0;32m----> 3\u001b[0;31m     \u001b[0;32mprint\u001b[0m \u001b[0msubtitle\u001b[0m\u001b[0;34m.\u001b[0m\u001b[0mspan\u001b[0m\u001b[0;34m.\u001b[0m\u001b[0mstring\u001b[0m\u001b[0;34m\u001b[0m\u001b[0m\n\u001b[0m",
        "\u001b[0;31mAttributeError\u001b[0m: 'NoneType' object has no attribute 'string'"
       ]
      }
     ],
     "prompt_number": 13
    },
    {
     "cell_type": "markdown",
     "metadata": {},
     "source": [
      "Why did I get this error? (*see above for the answer!*)"
     ]
    },
    {
     "cell_type": "code",
     "collapsed": false,
     "input": [
      "###subtitles try 3\n",
      "for subtitle in soup.find_all('h2'):    \n",
      "    try:\n",
      "        print subtitle.span.string\n",
      "    except AttributeError:\n",
      "        print \"no span tag in this subtitle!\""
     ],
     "language": "python",
     "metadata": {},
     "outputs": [
      {
       "output_type": "stream",
       "stream": "stdout",
       "text": [
        "no span tag in this subtitle!\n",
        "19th Century\n",
        "20th Century before World War II\n",
        "1945-2000\n",
        "21st Century\n",
        "See also\n",
        "References\n",
        "no span tag in this subtitle!\n"
       ]
      }
     ],
     "prompt_number": 14
    },
    {
     "cell_type": "markdown",
     "metadata": {},
     "source": [
      "We see that there were a couple of subtitles that have no **span** tag. "
     ]
    },
    {
     "cell_type": "code",
     "collapsed": false,
     "input": [
      "###alternative to try 4\n",
      "for subtitle in soup.find_all('h2'):    \n",
      "    try:\n",
      "        print subtitle.span.string\n",
      "    except AttributeError:\n",
      "        continue # cleaner results but lose information of who lacked the span tag!"
     ],
     "language": "python",
     "metadata": {},
     "outputs": [
      {
       "output_type": "stream",
       "stream": "stdout",
       "text": [
        "19th Century\n",
        "20th Century before World War II\n",
        "1945-2000\n",
        "21st Century\n",
        "See also\n",
        "References\n"
       ]
      }
     ],
     "prompt_number": 15
    },
    {
     "cell_type": "markdown",
     "metadata": {},
     "source": [
      "It is time to get the tables, as we did in the R [example](http://rpubs.com/jmagallanes/dataGathering):"
     ]
    },
    {
     "cell_type": "code",
     "collapsed": false,
     "input": [
      "allTables = soup.findAll('table', {'class': 'sortable wikitable'})#explore the page source to check tag and attribute!"
     ],
     "language": "python",
     "metadata": {},
     "outputs": [],
     "prompt_number": 16
    },
    {
     "cell_type": "code",
     "collapsed": false,
     "input": [
      "##see contents try 1\n",
      "for eachTable in allTables:\n",
      "    allRows=eachTable.find_all(\"tr\")\n",
      "    for eachRow in allRows:\n",
      "        print eachRow.get_text()"
     ],
     "language": "python",
     "metadata": {},
     "outputs": [
      {
       "output_type": "stream",
       "stream": "stdout",
       "text": [
        "\n",
        "Start\n",
        "Finish\n",
        "Conflict\n",
        "Combatants\n",
        "Fatalities\n",
        "\n",
        "\n",
        "1846\n",
        "1848\n",
        "Mexican\u2013American War\n",
        "\u00a0United States - \u00a0Mexico\n",
        "~29,000\n",
        "\n",
        "\n",
        "1879\n",
        "1883\n",
        "War of the Pacific\n",
        "\u00a0Chile - \u00a0Bolivia & \u00a0Peru\n",
        "13,000+\n",
        "\n",
        "\n",
        "Start\n",
        "Finish\n",
        "Conflict\n",
        "Combatants\n",
        "Fatalities\n",
        "\n",
        "\n",
        "1910\n",
        "1918\n",
        "Border War\n",
        "\u00a0United States - \u00a0Mexico\n",
        "100+\n",
        "\n",
        "\n",
        "1932\n",
        "1935\n",
        "Chaco War\n",
        "\u00a0Bolivia - \u00a0Paraguay\n",
        "~100,000\n",
        "\n",
        "\n",
        "1938\n",
        "1938\n",
        "Battle of Lake Khasan\n",
        "\u00a0Soviet Union \u2013 \u00a0Japan\n",
        "~1,300\n",
        "\n",
        "\n",
        "1939\n",
        "1939\n",
        "Slovak\u2013Hungarian War\n",
        "\u00a0Slovakia \u2013 \u00a0Hungary\n",
        "66\n",
        "\n",
        "\n",
        "1939\n",
        "1939\n",
        "Battle of Khalkhin Gol\n",
        "\u00a0Soviet Union and \u00a0Mongolia \u2013 \u00a0Japan and \u00a0Manchukuo\n",
        "~16,000\n",
        "\n",
        "\n",
        "Start\n",
        "Finish\n",
        "Conflict\n",
        "Combatants\n",
        "Fatalities\n",
        "\n",
        "\n",
        "1947\n",
        "1948\n",
        "Indo-Pakistani War of 1947\n",
        "\u00a0Pakistan \u2013 \u00a0India\n",
        "~3,000\n",
        "\n",
        "\n",
        "1950\n",
        "Present (CF signed in 1953)\n",
        "Korean War\n",
        "\u00a0South Korea - \u00a0North Korea\n",
        "2 419 010+\n",
        "\n",
        "\n",
        "1962\n",
        "1962\n",
        "Sino-Indian War\n",
        "\u00a0PRC \u2013 \u00a0India\n",
        "~4,000\n",
        "\n",
        "\n",
        "1965\n",
        "1965\n",
        "Indo-Pakistani War of 1965\n",
        "\u00a0Pakistan \u2013 \u00a0India\n",
        "~6,800\n",
        "\n",
        "\n",
        "1966\n",
        "1989\n",
        "South African Border War\n",
        "\u00a0Angola \u2013 \u00a0South Africa\n",
        "Unknown\n",
        "\n",
        "\n",
        "1967\n",
        "1967\n",
        "Chola incident\n",
        "\u00a0India \u2013 \u00a0People's Republic of China\n",
        "~5\n",
        "\n",
        "\n",
        "1969\n",
        "1969\n",
        "Sino-Soviet border conflict\n",
        "\u00a0PRC \u2013 \u00a0Soviet Union\n",
        "Unknown\n",
        "\n",
        "\n",
        "1971\n",
        "1971\n",
        "Indo-Pakistani War of 1971\n",
        "\u00a0Pakistan \u2013 \u00a0India\n",
        "~4,000+\n",
        "\n",
        "\n",
        "1979\n",
        "1990\n",
        "Sino-Vietnamese conflicts 1979-1990\n",
        "\u00a0Vietnam \u2013 \u00a0China\n",
        "Unclear\n",
        "\n",
        "\n",
        "1980\n",
        "1988\n",
        "Iran\u2013Iraq War\n",
        "\u00a0Iran \u2013 \u00a0Iraq\n",
        "1-2 million[1]\n",
        "\n",
        "\n",
        "1981\n",
        "1981\n",
        "Paquisha War\n",
        "\u00a0Ecuador \u2013 \u00a0Peru\n",
        "~10\n",
        "\n",
        "\n",
        "1982\n",
        "1982\n",
        "1982 Ethiopian\u2013Somali Border War\n",
        "\u00a0Ethiopia \u2013 \u00a0Somalia\n",
        "Unknown\n",
        "\n",
        "\n",
        "1984\n",
        "1987\n",
        "Siachen Conflict\n",
        "\u00a0Pakistan \u2013 \u00a0India\n",
        "~2,400.\n",
        "\n",
        "\n",
        "1985\n",
        "1985\n",
        "Agacher Strip War\n",
        "\u00a0Burkina Faso \u2013 \u00a0Mali\n",
        "179\n",
        "\n",
        "\n",
        "1987\n",
        "1987\n",
        "1987 Sino-Indian skirmish\n",
        "\u00a0India \u2013 \u00a0People's Republic of China\n",
        "Unknown\n",
        "\n",
        "\n",
        "1987\n",
        "1988\n",
        "Thai\u2013Laotian Border War\n",
        "\u00a0Thailand \u2013 \u00a0Laos\n",
        "~1,000\n",
        "\n",
        "\n",
        "1989\n",
        "1991\n",
        "Mauritania\u2013Senegal Border War\n",
        "\u00a0Mauritania \u2013 \u00a0Senegal\n",
        "Unknown\n",
        "\n",
        "\n",
        "1995\n",
        "1995\n",
        "Cenepa War\n",
        "\u00a0Ecuador \u2013 \u00a0Peru\n",
        "~450\n",
        "\n",
        "\n",
        "1998\n",
        "2000\n",
        "Eritrean-Ethiopian War\n",
        "\u00a0Ethiopia \u2013 \u00a0Eritrea\n",
        "~70,000\n",
        "\n",
        "\n",
        "1999\n",
        "1999\n",
        "Kargil War\n",
        "\u00a0India \u2013 \u00a0Pakistan\n",
        "~4,500\n",
        "\n",
        "\n",
        "Start\n",
        "Finish\n",
        "Conflict\n",
        "Combatants\n",
        "Fatalities\n",
        "\n",
        "\n",
        "2000\n",
        "2006\n",
        "2000-2006 Shebaa Farms conflict\n",
        "\u00a0Israel \u2013 \u00a0Lebanon\n",
        "30\n",
        "\n",
        "\n",
        "2001\n",
        "2001\n",
        "2001 Indian\u2013Bangladeshi border conflict\n",
        "\u00a0India \u2013 \u00a0Bangladesh\n",
        "20\n",
        "\n",
        "\n",
        "2008\n",
        "2008\n",
        "2008 Djiboutian\u2013Eritrean border conflict\n",
        "\u00a0Djibouti \u2013 \u00a0Eritrea\n",
        "144\n",
        "\n",
        "\n",
        "2008\n",
        "2012\n",
        "Cambodian\u2013Thai border dispute\n",
        "\u00a0Cambodia \u2013 \u00a0Thailand\n",
        "42\n",
        "\n",
        "\n",
        "2012\n",
        "2012\n",
        "2012 South Sudan\u2013Sudan border conflict\n",
        "\u00a0Sudan \u2013 \u00a0South Sudan\n",
        "262-322\n",
        "\n",
        "\n",
        "2012\n",
        "Ongoing\n",
        "2012 Syrian\u2013Turkish border clashes\n",
        "\u00a0Turkey - \u00a0Syria\n",
        "20\n",
        "\n"
       ]
      }
     ],
     "prompt_number": 17
    },
    {
     "cell_type": "markdown",
     "metadata": {},
     "source": [
      "In fact, you can see the contents of the table, but the column titles appear again and again, something I don't need."
     ]
    },
    {
     "cell_type": "code",
     "collapsed": false,
     "input": [
      "##see contents try 2\n",
      "for eachTable in allTables:\n",
      "        allRows=eachTable.find_all(\"tr\")   # tr stands for table rows\n",
      "        for eachRow in range(1,len(allRows)): #when I visit a table, I jump the first row\n",
      "            allCells = allRows[eachRow].find_all(\"td\") # td stands for table data, organized in cells.\n",
      "            start=allCells[0].get_text(),\n",
      "            end=allCells[1].get_text(),\n",
      "            name=allCells[2].get_text(),\n",
      "            countries=allCells[3].get_text(),\n",
      "            fatalities=allCells[4].get_text()\n",
      "            print start,end,name,countries,fatalities"
     ],
     "language": "python",
     "metadata": {},
     "outputs": [
      {
       "output_type": "stream",
       "stream": "stdout",
       "text": [
        "(u'1846',) (u'1848',) (u'Mexican\\u2013American War',) (u'\\xa0United States - \\xa0Mexico',) ~29,000\n",
        "(u'1879',) (u'1883',) (u'War of the Pacific',) (u'\\xa0Chile - \\xa0Bolivia & \\xa0Peru',) 13,000+\n",
        "(u'1910',) (u'1918',) (u'Border War',) (u'\\xa0United States - \\xa0Mexico',) 100+\n",
        "(u'1932',) (u'1935',) (u'Chaco War',) (u'\\xa0Bolivia - \\xa0Paraguay',) ~100,000\n",
        "(u'1938',) (u'1938',) (u'Battle of Lake Khasan',) (u'\\xa0Soviet Union \\u2013 \\xa0Japan',) ~1,300\n",
        "(u'1939',) (u'1939',) (u'Slovak\\u2013Hungarian War',) (u'\\xa0Slovakia \\u2013 \\xa0Hungary',) 66\n",
        "(u'1939',) (u'1939',) (u'Battle of Khalkhin Gol',) (u'\\xa0Soviet Union and \\xa0Mongolia \\u2013 \\xa0Japan and \\xa0Manchukuo',) ~16,000\n",
        "(u'1947',) (u'1948',) (u'Indo-Pakistani War of 1947',) (u'\\xa0Pakistan \\u2013 \\xa0India',) ~3,000\n",
        "(u'1950',) (u'Present (CF signed in 1953)',) (u'Korean War',) (u'\\xa0South Korea - \\xa0North Korea',) 2 419 010+\n",
        "(u'1962',) (u'1962',) (u'Sino-Indian War',) (u'\\xa0PRC \\u2013 \\xa0India',) ~4,000\n",
        "(u'1965',) (u'1965',) (u'Indo-Pakistani War of 1965',) (u'\\xa0Pakistan \\u2013 \\xa0India',) ~6,800\n",
        "(u'1966',) (u'1989',) (u'South African Border War',) (u'\\xa0Angola \\u2013 \\xa0South Africa',) Unknown\n",
        "(u'1967',) (u'1967',) (u'Chola incident',) (u\"\\xa0India \\u2013 \\xa0People's Republic of China\",) ~5\n",
        "(u'1969',) (u'1969',) (u'Sino-Soviet border conflict',) (u'\\xa0PRC \\u2013 \\xa0Soviet Union',) Unknown\n",
        "(u'1971',) (u'1971',) (u'Indo-Pakistani War of 1971',) (u'\\xa0Pakistan \\u2013 \\xa0India',) ~4,000+\n",
        "(u'1979',) (u'1990',) (u'Sino-Vietnamese conflicts 1979-1990',) (u'\\xa0Vietnam \\u2013 \\xa0China',) Unclear\n",
        "(u'1980',) (u'1988',) (u'Iran\\u2013Iraq War',) (u'\\xa0Iran \\u2013 \\xa0Iraq',) 1-2 million[1]\n",
        "(u'1981',) (u'1981',) (u'Paquisha War',) (u'\\xa0Ecuador \\u2013 \\xa0Peru',) ~10\n",
        "(u'1982',) (u'1982',) (u'1982 Ethiopian\\u2013Somali Border War',) (u'\\xa0Ethiopia \\u2013 \\xa0Somalia',) Unknown\n",
        "(u'1984',) (u'1987',) (u'Siachen Conflict',) (u'\\xa0Pakistan \\u2013 \\xa0India',) ~2,400.\n",
        "(u'1985',) (u'1985',) (u'Agacher Strip War',) (u'\\xa0Burkina Faso \\u2013 \\xa0Mali',) 179\n",
        "(u'1987',) (u'1987',) (u'1987 Sino-Indian skirmish',) (u\"\\xa0India \\u2013 \\xa0People's Republic of China\",) Unknown\n",
        "(u'1987',) (u'1988',) (u'Thai\\u2013Laotian Border War',) (u'\\xa0Thailand \\u2013 \\xa0Laos',) ~1,000\n",
        "(u'1989',) (u'1991',) (u'Mauritania\\u2013Senegal Border War',) (u'\\xa0Mauritania \\u2013 \\xa0Senegal',) Unknown\n",
        "(u'1995',) (u'1995',) (u'Cenepa War',) (u'\\xa0Ecuador \\u2013 \\xa0Peru',) ~450\n",
        "(u'1998',) (u'2000',) (u'Eritrean-Ethiopian War',) (u'\\xa0Ethiopia \\u2013 \\xa0Eritrea',) ~70,000\n",
        "(u'1999',) (u'1999',) (u'Kargil War',) (u'\\xa0India \\u2013 \\xa0Pakistan',) ~4,500\n",
        "(u'2000',) (u'2006',) (u'2000-2006 Shebaa Farms conflict',) (u'\\xa0Israel \\u2013 \\xa0Lebanon',) 30\n",
        "(u'2001',) (u'2001',) (u'2001 Indian\\u2013Bangladeshi border conflict',) (u'\\xa0India \\u2013 \\xa0Bangladesh',) 20\n",
        "(u'2008',) (u'2008',) (u'2008 Djiboutian\\u2013Eritrean border conflict',) (u'\\xa0Djibouti \\u2013 \\xa0Eritrea',) 144\n",
        "(u'2008',) (u'2012',) (u'Cambodian\\u2013Thai border dispute',) (u'\\xa0Cambodia \\u2013 \\xa0Thailand',) 42\n",
        "(u'2012',) (u'2012',) (u'2012 South Sudan\\u2013Sudan border conflict',) (u'\\xa0Sudan \\u2013 \\xa0South Sudan',) 262-322\n",
        "(u'2012',) (u'Ongoing',) (u'2012 Syrian\\u2013Turkish border clashes',) (u'\\xa0Turkey - \\xa0Syria',) 20\n"
       ]
      }
     ],
     "prompt_number": 18
    },
    {
     "cell_type": "code",
     "collapsed": false,
     "input": [
      "##see contents alternative\n",
      "print 'START','END','NAME','\\t\\t\\t\\t\\t\\tFATALITIES'\n",
      "for eachTable in allTables:\n",
      "        allRows=eachTable.find_all(\"tr\")\n",
      "        \n",
      "        for eachRow in range(1,len(allRows)):\n",
      "            allCells = allRows[eachRow].find_all(\"td\")\n",
      "            print allCells[0].string,\n",
      "            print allCells[1].string,\n",
      "            print allCells[2].string,\n",
      "            print [country.string for country in allCells[3].find_all('a')],\n",
      "            print allCells[4].string"
     ],
     "language": "python",
     "metadata": {},
     "outputs": [
      {
       "output_type": "stream",
       "stream": "stdout",
       "text": [
        "START END NAME \t\t\t\t\t\tFATALITIES\n",
        "1846 1848 Mexican\u2013American War [u'United States', u'Mexico'] ~29,000\n",
        "1879 1883 War of the Pacific [u'Chile', u'Bolivia', u'Peru'] 13,000+\n",
        "1910 1918 Border War [u'United States', u'Mexico'] 100+\n",
        "1932 1935 Chaco War [u'Bolivia', u'Paraguay'] ~100,000\n",
        "1938 1938 Battle of Lake Khasan [u'Soviet Union', u'Japan'] ~1,300\n",
        "1939 1939 Slovak\u2013Hungarian War [u'Slovakia', u'Hungary'] 66\n",
        "1939 1939 Battle of Khalkhin Gol [u'Soviet Union', u'Mongolia', u'Japan', u'Manchukuo'] ~16,000\n",
        "1947 1948 Indo-Pakistani War of 1947 [u'Pakistan', u'India'] ~3,000\n",
        "1950 Present (CF signed in 1953) Korean War [u'South Korea', u'North Korea'] 2 419 010+\n",
        "1962 1962 Sino-Indian War [u'PRC', u'India'] ~4,000\n",
        "1965 1965 Indo-Pakistani War of 1965 [u'Pakistan', u'India'] ~6,800\n",
        "1966 1989 South African Border War [u'Angola', u'South Africa'] Unknown\n",
        "1967 1967 Chola incident [u'India', u\"People's Republic of China\"] ~5\n",
        "1969 1969 Sino-Soviet border conflict [u'PRC', u'Soviet Union'] Unknown\n",
        "1971 1971 Indo-Pakistani War of 1971 [u'Pakistan', u'India'] ~4,000+\n",
        "1979 1990 Sino-Vietnamese conflicts 1979-1990 [u'Vietnam', u'China'] Unclear\n",
        "1980 1988 Iran\u2013Iraq War [u'Iran', u'Iraq'] None\n",
        "1981 1981 Paquisha War [u'Ecuador', u'Peru'] ~10\n",
        "1982 1982 1982 Ethiopian\u2013Somali Border War [u'Ethiopia', u'Somalia'] Unknown\n",
        "1984 1987 Siachen Conflict [u'Pakistan', u'India'] ~2,400.\n",
        "1985 1985 Agacher Strip War [u'Burkina Faso', u'Mali'] 179\n",
        "1987 1987 1987 Sino-Indian skirmish [u'India', u\"People's Republic of China\"] Unknown\n",
        "1987 1988 Thai\u2013Laotian Border War [u'Thailand', u'Laos'] ~1,000\n",
        "1989 1991 Mauritania\u2013Senegal Border War [u'Mauritania', u'Senegal'] Unknown\n",
        "1995 1995 Cenepa War [u'Ecuador', u'Peru'] ~450\n",
        "1998 2000 Eritrean-Ethiopian War [u'Ethiopia', u'Eritrea'] ~70,000\n",
        "1999 1999 Kargil War [u'India', u'Pakistan'] ~4,500\n",
        "2000 2006 2000-2006 Shebaa Farms conflict [u'Israel', u'Lebanon'] 30\n",
        "2001 2001 2001 Indian\u2013Bangladeshi border conflict [u'India', u'Bangladesh'] 20\n",
        "2008 2008 2008 Djiboutian\u2013Eritrean border conflict [u'Djibouti', u'Eritrea'] 144\n",
        "2008 2012 Cambodian\u2013Thai border dispute [u'Cambodia', u'Thailand'] 42\n",
        "2012 2012 2012 South Sudan\u2013Sudan border conflict [u'Sudan', u'South Sudan'] 262-322\n",
        "2012 Ongoing 2012 Syrian\u2013Turkish border clashes [u'Turkey', u'Syria'] 20\n"
       ]
      }
     ],
     "prompt_number": 19
    },
    {
     "cell_type": "markdown",
     "metadata": {},
     "source": [
      "As we are dealing with this one page to do the exercise, it would be better to save it locally:"
     ]
    },
    {
     "cell_type": "code",
     "collapsed": false,
     "input": [
      "import os\n",
      "\n",
      "# set working directory:\n",
      "os.chdir(\"/Users/josemagallanes/Documents/GITHUBrepositories/Tutorials/TemplatesPython\")  #customize this please!\n",
      "\n",
      "WhereInWWW='http://en.wikipedia.org/wiki/List_of_border_wars'\n",
      "identification = { 'User-Agent' : 'Mozilla/4.0 (compatible; MSIE 5.5; Windows NT)'}\n",
      "requestToServer = urllib2.Request(WhereInWWW,headers=identification)\n",
      "responseFromServerInHTML = urllib2.urlopen(requestToServer)\n",
      "\n",
      "data = responseFromServerInHTML.read()\n",
      "saveHtml  = open('warsList.html','w')\n",
      "saveHtml.write(data)\n",
      "saveHtml.close()"
     ],
     "language": "python",
     "metadata": {},
     "outputs": [],
     "prompt_number": 20
    },
    {
     "cell_type": "markdown",
     "metadata": {},
     "source": [
      "from now on, I will stop bothering wikipedia:"
     ]
    },
    {
     "cell_type": "code",
     "collapsed": false,
     "input": [
      "openHtml = open(\"warsList.html\",\"r\")  #using data stored in my computer\n",
      "soup = BS(openHtml,'lxml')\n",
      "openHtml.close()\n",
      "\n",
      "allTables = soup.findAll('table', {'class': 'sortable wikitable'})\n",
      "##see contents try 2\n",
      "for eachTable in allTables:\n",
      "        allRows=eachTable.find_all(\"tr\")   # tr stands for table rows\n",
      "        for eachRow in range(1,len(allRows)): #when I visit a table, I jump the first row\n",
      "            allCells = allRows[eachRow].find_all(\"td\") # td stands for table data, organized in cells.\n",
      "            start=allCells[0].get_text(),\n",
      "            end=allCells[1].get_text(),\n",
      "            name=allCells[2].get_text(),\n",
      "            countries=[country.string for country in allCells[3].find_all('a')]\n",
      "            fatalities=allCells[4].get_text()"
     ],
     "language": "python",
     "metadata": {},
     "outputs": [],
     "prompt_number": 21
    },
    {
     "cell_type": "markdown",
     "metadata": {},
     "source": [
      "We could save the output to a file, but we are interested in something different than we did in R. This time I want to use the fact that I am inside an html file that also has links to **other pages**. In particular, you can that see in the wikipedia page that the countries have links to their own wikipage. I want to get each of them :"
     ]
    },
    {
     "cell_type": "code",
     "collapsed": false,
     "input": [
      "allTables = soup.findAll('table', {'class': 'sortable wikitable'})\n",
      "for eachTable in allTables:\n",
      "        allRows=eachTable.find_all(\"tr\")   # tr stands for table rows\n",
      "        for eachRow in range(1,len(allRows)): #when I visit a table, I jump the first row\n",
      "            allCells = allRows[eachRow].find_all(\"td\") # td stands for table data, organized in cells.\n",
      "            start=allCells[0].get_text()\n",
      "            end=allCells[1].get_text()\n",
      "            name=allCells[2].get_text()\n",
      "            fatalities=allCells[4].get_text()\n",
      "            countries=[country.get_text() for country in allCells[3].find_all('a')]\n",
      "            \n",
      "            ##start - code added\n",
      "            linksEachCountry=['http://en.wikipedia.org'+country.get('href') for country in allCells[3].find_all('a')]\n",
      "            print linksEachCountry\n",
      "            ##end  - code added"
     ],
     "language": "python",
     "metadata": {},
     "outputs": [
      {
       "output_type": "stream",
       "stream": "stdout",
       "text": [
        "['http://en.wikipedia.org/wiki/United_States', 'http://en.wikipedia.org/wiki/Mexico']\n",
        "['http://en.wikipedia.org/wiki/Chile', 'http://en.wikipedia.org/wiki/Bolivia', 'http://en.wikipedia.org/wiki/Peru']\n",
        "['http://en.wikipedia.org/wiki/United_States', 'http://en.wikipedia.org/wiki/Mexico']\n",
        "['http://en.wikipedia.org/wiki/Bolivia', 'http://en.wikipedia.org/wiki/Paraguay']\n",
        "['http://en.wikipedia.org/wiki/Soviet_Union', 'http://en.wikipedia.org/wiki/Japan']\n",
        "['http://en.wikipedia.org/wiki/Slovakia', 'http://en.wikipedia.org/wiki/Hungary']\n",
        "['http://en.wikipedia.org/wiki/Soviet_Union', 'http://en.wikipedia.org/wiki/Mongolia', 'http://en.wikipedia.org/wiki/Japan', 'http://en.wikipedia.org/wiki/Manchukuo']\n",
        "['http://en.wikipedia.org/wiki/Pakistan', 'http://en.wikipedia.org/wiki/India']\n",
        "['http://en.wikipedia.org/wiki/South_Korea', 'http://en.wikipedia.org/wiki/North_Korea']\n",
        "['http://en.wikipedia.org/wiki/China', 'http://en.wikipedia.org/wiki/India']\n",
        "['http://en.wikipedia.org/wiki/Pakistan', 'http://en.wikipedia.org/wiki/India']\n",
        "['http://en.wikipedia.org/wiki/Angola', 'http://en.wikipedia.org/wiki/South_Africa']\n",
        "['http://en.wikipedia.org/wiki/India', 'http://en.wikipedia.org/wiki/China']\n",
        "['http://en.wikipedia.org/wiki/China', 'http://en.wikipedia.org/wiki/Soviet_Union']\n",
        "['http://en.wikipedia.org/wiki/Pakistan', 'http://en.wikipedia.org/wiki/India']\n",
        "['http://en.wikipedia.org/wiki/Vietnam', 'http://en.wikipedia.org/wiki/China']\n",
        "['http://en.wikipedia.org/wiki/Iran', 'http://en.wikipedia.org/wiki/Iraq']\n",
        "['http://en.wikipedia.org/wiki/Ecuador', 'http://en.wikipedia.org/wiki/Peru']\n",
        "['http://en.wikipedia.org/wiki/Ethiopia', 'http://en.wikipedia.org/wiki/Somalia']\n",
        "['http://en.wikipedia.org/wiki/Pakistan', 'http://en.wikipedia.org/wiki/India']\n",
        "['http://en.wikipedia.org/wiki/Burkina_Faso', 'http://en.wikipedia.org/wiki/Mali']\n",
        "['http://en.wikipedia.org/wiki/India', 'http://en.wikipedia.org/wiki/China']\n",
        "['http://en.wikipedia.org/wiki/Thailand', 'http://en.wikipedia.org/wiki/Laos']\n",
        "['http://en.wikipedia.org/wiki/Mauritania', 'http://en.wikipedia.org/wiki/Senegal']\n",
        "['http://en.wikipedia.org/wiki/Ecuador', 'http://en.wikipedia.org/wiki/Peru']\n",
        "['http://en.wikipedia.org/wiki/Ethiopia', 'http://en.wikipedia.org/wiki/Eritrea']\n",
        "['http://en.wikipedia.org/wiki/India', 'http://en.wikipedia.org/wiki/Pakistan']\n",
        "['http://en.wikipedia.org/wiki/Israel', 'http://en.wikipedia.org/wiki/Lebanon']\n",
        "['http://en.wikipedia.org/wiki/India', 'http://en.wikipedia.org/wiki/Bangladesh']\n",
        "['http://en.wikipedia.org/wiki/Djibouti', 'http://en.wikipedia.org/wiki/Eritrea']\n",
        "['http://en.wikipedia.org/wiki/Cambodia', 'http://en.wikipedia.org/wiki/Thailand']\n",
        "['http://en.wikipedia.org/wiki/Sudan', 'http://en.wikipedia.org/wiki/South_Sudan']\n",
        "['http://en.wikipedia.org/wiki/Turkey', 'http://en.wikipedia.org/wiki/Syria']\n"
       ]
      }
     ],
     "prompt_number": 22
    },
    {
     "cell_type": "markdown",
     "metadata": {},
     "source": [
      "Above, we are getting at least two links in a list. As you can see, I needed to concatenate *http://en.wikipedia.org* to the link retrieved. Now, I want to get a particular information from that wikipage. In this case I will get the geographical coordinates of the country:"
     ]
    },
    {
     "cell_type": "code",
     "collapsed": false,
     "input": [
      "for eachTable in allTables:\n",
      "        allRows=eachTable.find_all(\"tr\")   # tr stands for table rows\n",
      "        for eachRow in range(1,len(allRows)): #when I visit a table, I jump the first row\n",
      "            allCells = allRows[eachRow].find_all(\"td\") # td stands for table data, organized in cells.\n",
      "            start=allCells[0].get_text()\n",
      "            end=allCells[1].get_text()\n",
      "            name=allCells[2].get_text()\n",
      "            fatalities=allCells[4].get_text()\n",
      "            countries=[country.get_text() for country in allCells[3].find_all('a')]\n",
      "            linksEachCountry=['http://en.wikipedia.org'+country.get('href') for country in allCells[3].find_all('a')] \n",
      "            \n",
      "            #start -coded added\n",
      "            for link in linksEachCountry:\n",
      "                if link=='http://en.wikipedia.org/wiki/Soviet_Union':  #notice this!\n",
      "                    link='http://en.wikipedia.org/wiki/Russia'\n",
      "                externalWiki= urllib2.urlopen(link)\n",
      "                subSoup = BS(externalWiki)\n",
      "                coords=subSoup.find_all(\"span\",{'class': 'geo'})\n",
      "                print coords\n",
      "            ##end  - code added"
     ],
     "language": "python",
     "metadata": {},
     "outputs": [
      {
       "output_type": "stream",
       "stream": "stdout",
       "text": [
        "[<span class=\"geo\">38.883; -77.017</span>, <span class=\"geo\">40.717; -74.000</span>]\n",
        "[<span class=\"geo\">19.433; -99.133</span>]"
       ]
      },
      {
       "output_type": "stream",
       "stream": "stdout",
       "text": [
        "\n",
        "[<span class=\"geo\">-33.433; -70.667</span>]"
       ]
      },
      {
       "output_type": "stream",
       "stream": "stdout",
       "text": [
        "\n",
        "[<span class=\"geo\">-16.712; -64.666</span>, <span class=\"geo\">-17.800; -63.167</span>]"
       ]
      },
      {
       "output_type": "stream",
       "stream": "stdout",
       "text": [
        "\n",
        "[<span class=\"geo\">-12.0433; -77.0283</span>]"
       ]
      },
      {
       "output_type": "stream",
       "stream": "stdout",
       "text": [
        "\n",
        "[<span class=\"geo\">38.883; -77.017</span>, <span class=\"geo\">40.717; -74.000</span>]"
       ]
      },
      {
       "output_type": "stream",
       "stream": "stdout",
       "text": [
        "\n",
        "[<span class=\"geo\">19.433; -99.133</span>]"
       ]
      },
      {
       "output_type": "stream",
       "stream": "stdout",
       "text": [
        "\n",
        "[<span class=\"geo\">-16.712; -64.666</span>, <span class=\"geo\">-17.800; -63.167</span>]"
       ]
      },
      {
       "output_type": "stream",
       "stream": "stdout",
       "text": [
        "\n",
        "[<span class=\"geo\">-25.267; -57.667</span>]"
       ]
      },
      {
       "output_type": "stream",
       "stream": "stdout",
       "text": [
        "\n",
        "[<span class=\"geo\">60; 90</span>, <span class=\"geo\">55.750; 37.617</span>]"
       ]
      },
      {
       "output_type": "stream",
       "stream": "stdout",
       "text": [
        "\n",
        "[<span class=\"geo\">35.683; 139.767</span>]"
       ]
      },
      {
       "output_type": "stream",
       "stream": "stdout",
       "text": [
        "\n",
        "[<span class=\"geo\">48.150; 17.117</span>]"
       ]
      },
      {
       "output_type": "stream",
       "stream": "stdout",
       "text": [
        "\n",
        "[<span class=\"geo\">47.433; 19.250</span>]"
       ]
      },
      {
       "output_type": "stream",
       "stream": "stdout",
       "text": [
        "\n",
        "[<span class=\"geo\">60; 90</span>, <span class=\"geo\">55.750; 37.617</span>]"
       ]
      },
      {
       "output_type": "stream",
       "stream": "stdout",
       "text": [
        "\n",
        "[<span class=\"geo\">47.917; 106.883</span>, <span class=\"geo\">46; 105</span>]"
       ]
      },
      {
       "output_type": "stream",
       "stream": "stdout",
       "text": [
        "\n",
        "[<span class=\"geo\">35.683; 139.767</span>]"
       ]
      },
      {
       "output_type": "stream",
       "stream": "stdout",
       "text": [
        "\n",
        "[<span class=\"geo\">43.883; 125.317</span>]"
       ]
      },
      {
       "output_type": "stream",
       "stream": "stdout",
       "text": [
        "\n",
        "[<span class=\"geo\">33.667; 73.167</span>]"
       ]
      },
      {
       "output_type": "stream",
       "stream": "stdout",
       "text": [
        "\n",
        "[<span class=\"geo\">28.6133; 77.2083</span>, <span class=\"geo\">21; 78</span>]"
       ]
      },
      {
       "output_type": "stream",
       "stream": "stdout",
       "text": [
        "\n",
        "[<span class=\"geo\">37.550; 126.967</span>]"
       ]
      },
      {
       "output_type": "stream",
       "stream": "stdout",
       "text": [
        "\n",
        "[<span class=\"geo\">40.000; 127.000</span>, <span class=\"geo\">39.033; 125.750</span>]"
       ]
      },
      {
       "output_type": "stream",
       "stream": "stdout",
       "text": [
        "\n",
        "[<span class=\"geo\">39.917; 116.383</span>, <span class=\"geo\">35; 103</span>]"
       ]
      },
      {
       "output_type": "stream",
       "stream": "stdout",
       "text": [
        "\n",
        "[<span class=\"geo\">28.6133; 77.2083</span>, <span class=\"geo\">21; 78</span>]"
       ]
      },
      {
       "output_type": "stream",
       "stream": "stdout",
       "text": [
        "\n",
        "[<span class=\"geo\">33.667; 73.167</span>]"
       ]
      },
      {
       "output_type": "stream",
       "stream": "stdout",
       "text": [
        "\n",
        "[<span class=\"geo\">28.6133; 77.2083</span>, <span class=\"geo\">21; 78</span>]"
       ]
      },
      {
       "output_type": "stream",
       "stream": "stdout",
       "text": [
        "\n",
        "[<span class=\"geo\">-8.833; 13.333</span>]"
       ]
      },
      {
       "output_type": "stream",
       "stream": "stdout",
       "text": [
        "\n",
        "[<span class=\"geo\">-30; 25</span>]"
       ]
      },
      {
       "output_type": "stream",
       "stream": "stdout",
       "text": [
        "\n",
        "[<span class=\"geo\">28.6133; 77.2083</span>, <span class=\"geo\">21; 78</span>]"
       ]
      },
      {
       "output_type": "stream",
       "stream": "stdout",
       "text": [
        "\n",
        "[<span class=\"geo\">39.917; 116.383</span>, <span class=\"geo\">35; 103</span>]"
       ]
      },
      {
       "output_type": "stream",
       "stream": "stdout",
       "text": [
        "\n",
        "[<span class=\"geo\">39.917; 116.383</span>, <span class=\"geo\">35; 103</span>]"
       ]
      },
      {
       "output_type": "stream",
       "stream": "stdout",
       "text": [
        "\n",
        "[<span class=\"geo\">60; 90</span>, <span class=\"geo\">55.750; 37.617</span>]"
       ]
      },
      {
       "output_type": "stream",
       "stream": "stdout",
       "text": [
        "\n",
        "[<span class=\"geo\">33.667; 73.167</span>]"
       ]
      },
      {
       "output_type": "stream",
       "stream": "stdout",
       "text": [
        "\n",
        "[<span class=\"geo\">28.6133; 77.2083</span>, <span class=\"geo\">21; 78</span>]"
       ]
      },
      {
       "output_type": "stream",
       "stream": "stdout",
       "text": [
        "\n",
        "[<span class=\"geo\">21.033; 105.850</span>]"
       ]
      },
      {
       "output_type": "stream",
       "stream": "stdout",
       "text": [
        "\n",
        "[<span class=\"geo\">39.917; 116.383</span>, <span class=\"geo\">35; 103</span>]"
       ]
      },
      {
       "output_type": "stream",
       "stream": "stdout",
       "text": [
        "\n",
        "[<span class=\"geo\">32; 53</span>, <span class=\"geo\">35.683; 51.417</span>]"
       ]
      },
      {
       "output_type": "stream",
       "stream": "stdout",
       "text": [
        "\n",
        "[<span class=\"geo\">33.333; 44.433</span>]"
       ]
      },
      {
       "output_type": "stream",
       "stream": "stdout",
       "text": [
        "\n",
        "[<span class=\"geo\">-0.150; -78.350</span>]"
       ]
      },
      {
       "output_type": "stream",
       "stream": "stdout",
       "text": [
        "\n",
        "[<span class=\"geo\">-12.0433; -77.0283</span>]"
       ]
      },
      {
       "output_type": "stream",
       "stream": "stdout",
       "text": [
        "\n",
        "[<span class=\"geo\">9.0300; 38.7400</span>]"
       ]
      },
      {
       "output_type": "stream",
       "stream": "stdout",
       "text": [
        "\n",
        "[<span class=\"geo\">2.033; 45.350</span>]"
       ]
      },
      {
       "output_type": "stream",
       "stream": "stdout",
       "text": [
        "\n",
        "[<span class=\"geo\">33.667; 73.167</span>]"
       ]
      },
      {
       "output_type": "stream",
       "stream": "stdout",
       "text": [
        "\n",
        "[<span class=\"geo\">28.6133; 77.2083</span>, <span class=\"geo\">21; 78</span>]"
       ]
      },
      {
       "output_type": "stream",
       "stream": "stdout",
       "text": [
        "\n",
        "[<span class=\"geo\">12.333; -1.667</span>]"
       ]
      },
      {
       "output_type": "stream",
       "stream": "stdout",
       "text": [
        "\n",
        "[<span class=\"geo\">12.650; -8.000</span>]"
       ]
      },
      {
       "output_type": "stream",
       "stream": "stdout",
       "text": [
        "\n",
        "[<span class=\"geo\">28.6133; 77.2083</span>, <span class=\"geo\">21; 78</span>]"
       ]
      },
      {
       "output_type": "stream",
       "stream": "stdout",
       "text": [
        "\n",
        "[<span class=\"geo\">39.917; 116.383</span>, <span class=\"geo\">35; 103</span>]"
       ]
      },
      {
       "output_type": "stream",
       "stream": "stdout",
       "text": [
        "\n",
        "[<span class=\"geo\">13.750; 100.483</span>]"
       ]
      },
      {
       "output_type": "stream",
       "stream": "stdout",
       "text": [
        "\n",
        "[<span class=\"geo\">17.967; 102.600</span>]"
       ]
      },
      {
       "output_type": "stream",
       "stream": "stdout",
       "text": [
        "\n",
        "[<span class=\"geo\">18.150; -15.967</span>]"
       ]
      },
      {
       "output_type": "stream",
       "stream": "stdout",
       "text": [
        "\n",
        "[<span class=\"geo\">14.667; -17.417</span>]"
       ]
      },
      {
       "output_type": "stream",
       "stream": "stdout",
       "text": [
        "\n",
        "[<span class=\"geo\">-0.150; -78.350</span>]"
       ]
      },
      {
       "output_type": "stream",
       "stream": "stdout",
       "text": [
        "\n",
        "[<span class=\"geo\">-12.0433; -77.0283</span>]"
       ]
      },
      {
       "output_type": "stream",
       "stream": "stdout",
       "text": [
        "\n",
        "[<span class=\"geo\">9.0300; 38.7400</span>]"
       ]
      },
      {
       "output_type": "stream",
       "stream": "stdout",
       "text": [
        "\n",
        "[<span class=\"geo\">15.333; 38.917</span>]"
       ]
      },
      {
       "output_type": "stream",
       "stream": "stdout",
       "text": [
        "\n",
        "[<span class=\"geo\">28.6133; 77.2083</span>, <span class=\"geo\">21; 78</span>]"
       ]
      },
      {
       "output_type": "stream",
       "stream": "stdout",
       "text": [
        "\n",
        "[<span class=\"geo\">33.667; 73.167</span>]"
       ]
      },
      {
       "output_type": "stream",
       "stream": "stdout",
       "text": [
        "\n",
        "[<span class=\"geo\">31; 35</span>, <span class=\"geo\">31.783; 35.217</span>]"
       ]
      },
      {
       "output_type": "stream",
       "stream": "stdout",
       "text": [
        "\n",
        "[<span class=\"geo\">33.900; 35.533</span>]"
       ]
      },
      {
       "output_type": "stream",
       "stream": "stdout",
       "text": [
        "\n",
        "[<span class=\"geo\">28.6133; 77.2083</span>, <span class=\"geo\">21; 78</span>]"
       ]
      },
      {
       "output_type": "stream",
       "stream": "stdout",
       "text": [
        "\n",
        "[<span class=\"geo\">23.700; 90.350</span>]"
       ]
      },
      {
       "output_type": "stream",
       "stream": "stdout",
       "text": [
        "\n",
        "[<span class=\"geo\">11.600; 43.167</span>]"
       ]
      },
      {
       "output_type": "stream",
       "stream": "stdout",
       "text": [
        "\n",
        "[<span class=\"geo\">15.333; 38.917</span>]"
       ]
      },
      {
       "output_type": "stream",
       "stream": "stdout",
       "text": [
        "\n",
        "[<span class=\"geo\">11.550; 104.917</span>]"
       ]
      },
      {
       "output_type": "stream",
       "stream": "stdout",
       "text": [
        "\n",
        "[<span class=\"geo\">13.750; 100.483</span>]"
       ]
      },
      {
       "output_type": "stream",
       "stream": "stdout",
       "text": [
        "\n",
        "[<span class=\"geo\">15.633; 32.533</span>, <span class=\"geo\">15.63306; 32.53306</span>, <span class=\"geo\">15; 32</span>]"
       ]
      },
      {
       "output_type": "stream",
       "stream": "stdout",
       "text": [
        "\n",
        "[<span class=\"geo\">4.850; 31.600</span>]"
       ]
      },
      {
       "output_type": "stream",
       "stream": "stdout",
       "text": [
        "\n",
        "[<span class=\"geo\">39.917; 32.833</span>, <span class=\"geo\">41.017; 28.950</span>]"
       ]
      },
      {
       "output_type": "stream",
       "stream": "stdout",
       "text": [
        "\n",
        "[<span class=\"geo\">33.500; 36.300</span>]"
       ]
      },
      {
       "output_type": "stream",
       "stream": "stdout",
       "text": [
        "\n"
       ]
      }
     ],
     "prompt_number": 23
    },
    {
     "cell_type": "markdown",
     "metadata": {},
     "source": [
      "As you can see, some countries have two pairs of coordinates (?)...That is because some wikipages give you the coordinate of the country, and the coordinate of the biggest city. For our purposes we will keep just one. Since the coordinates are offered in a list, I will select the first element of that list:"
     ]
    },
    {
     "cell_type": "code",
     "collapsed": false,
     "input": [
      "for eachTable in allTables:\n",
      "        allRows=eachTable.find_all(\"tr\")   # tr stands for table rows\n",
      "        for eachRow in range(1,len(allRows)): #when I visit a table, I jump the first row\n",
      "            allCells = allRows[eachRow].find_all(\"td\") # td stands for table data, organized in cells.\n",
      "            start=allCells[0].get_text()\n",
      "            end=allCells[1].get_text()\n",
      "            name=allCells[2].get_text()\n",
      "            fatalities=allCells[4].get_text()\n",
      "            countries=[country.string for country in allCells[3].find_all('a')]\n",
      "            linksEachCountry=['http://en.wikipedia.org'+country.get('href') for country in allCells[3].find_all('a')] \n",
      "            for link in linksEachCountry:\n",
      "                if link=='http://en.wikipedia.org/wiki/Soviet_Union':  #notice this!\n",
      "                    link='http://en.wikipedia.org/wiki/Russia'\n",
      "                externalWiki= urllib2.urlopen(link)\n",
      "                subSoup = BS(externalWiki)\n",
      "                \n",
      "                #start - coded modified\n",
      "                coords=subSoup.find_all(\"span\",{'class': 'geo'})[0].string\n",
      "                ##end  - code modified\n",
      "                \n",
      "                print coords, #comma prints elements in same line"
     ],
     "language": "python",
     "metadata": {},
     "outputs": [
      {
       "output_type": "stream",
       "stream": "stdout",
       "text": [
        "38.883; -77.017 "
       ]
      },
      {
       "output_type": "stream",
       "stream": "stdout",
       "text": [
        "19.433; -99.133 "
       ]
      },
      {
       "output_type": "stream",
       "stream": "stdout",
       "text": [
        "-33.433; -70.667 "
       ]
      },
      {
       "output_type": "stream",
       "stream": "stdout",
       "text": [
        "-16.712; -64.666 "
       ]
      },
      {
       "output_type": "stream",
       "stream": "stdout",
       "text": [
        "-12.0433; -77.0283 "
       ]
      },
      {
       "output_type": "stream",
       "stream": "stdout",
       "text": [
        "38.883; -77.017 "
       ]
      },
      {
       "output_type": "stream",
       "stream": "stdout",
       "text": [
        "19.433; -99.133 "
       ]
      },
      {
       "output_type": "stream",
       "stream": "stdout",
       "text": [
        "-16.712; -64.666 "
       ]
      },
      {
       "output_type": "stream",
       "stream": "stdout",
       "text": [
        "-25.267; -57.667 "
       ]
      },
      {
       "output_type": "stream",
       "stream": "stdout",
       "text": [
        "60; 90 "
       ]
      },
      {
       "output_type": "stream",
       "stream": "stdout",
       "text": [
        "35.683; 139.767 "
       ]
      },
      {
       "output_type": "stream",
       "stream": "stdout",
       "text": [
        "48.150; 17.117 "
       ]
      },
      {
       "output_type": "stream",
       "stream": "stdout",
       "text": [
        "47.433; 19.250 "
       ]
      },
      {
       "output_type": "stream",
       "stream": "stdout",
       "text": [
        "60; 90 "
       ]
      },
      {
       "output_type": "stream",
       "stream": "stdout",
       "text": [
        "47.917; 106.883 "
       ]
      },
      {
       "output_type": "stream",
       "stream": "stdout",
       "text": [
        "35.683; 139.767 "
       ]
      },
      {
       "output_type": "stream",
       "stream": "stdout",
       "text": [
        "43.883; 125.317 "
       ]
      },
      {
       "output_type": "stream",
       "stream": "stdout",
       "text": [
        "33.667; 73.167 "
       ]
      },
      {
       "output_type": "stream",
       "stream": "stdout",
       "text": [
        "28.6133; 77.2083 "
       ]
      },
      {
       "output_type": "stream",
       "stream": "stdout",
       "text": [
        "37.550; 126.967 "
       ]
      },
      {
       "output_type": "stream",
       "stream": "stdout",
       "text": [
        "40.000; 127.000 "
       ]
      },
      {
       "output_type": "stream",
       "stream": "stdout",
       "text": [
        "39.917; 116.383 "
       ]
      },
      {
       "output_type": "stream",
       "stream": "stdout",
       "text": [
        "28.6133; 77.2083 "
       ]
      },
      {
       "output_type": "stream",
       "stream": "stdout",
       "text": [
        "33.667; 73.167 "
       ]
      },
      {
       "output_type": "stream",
       "stream": "stdout",
       "text": [
        "28.6133; 77.2083 "
       ]
      },
      {
       "output_type": "stream",
       "stream": "stdout",
       "text": [
        "-8.833; 13.333 "
       ]
      },
      {
       "output_type": "stream",
       "stream": "stdout",
       "text": [
        "-30; 25 "
       ]
      },
      {
       "output_type": "stream",
       "stream": "stdout",
       "text": [
        "28.6133; 77.2083 "
       ]
      },
      {
       "output_type": "stream",
       "stream": "stdout",
       "text": [
        "39.917; 116.383 "
       ]
      },
      {
       "output_type": "stream",
       "stream": "stdout",
       "text": [
        "39.917; 116.383 "
       ]
      },
      {
       "output_type": "stream",
       "stream": "stdout",
       "text": [
        "60; 90 "
       ]
      },
      {
       "output_type": "stream",
       "stream": "stdout",
       "text": [
        "33.667; 73.167 "
       ]
      },
      {
       "output_type": "stream",
       "stream": "stdout",
       "text": [
        "28.6133; 77.2083 "
       ]
      },
      {
       "output_type": "stream",
       "stream": "stdout",
       "text": [
        "21.033; 105.850 "
       ]
      },
      {
       "output_type": "stream",
       "stream": "stdout",
       "text": [
        "39.917; 116.383 "
       ]
      },
      {
       "output_type": "stream",
       "stream": "stdout",
       "text": [
        "32; 53 "
       ]
      },
      {
       "output_type": "stream",
       "stream": "stdout",
       "text": [
        "33.333; 44.433 "
       ]
      },
      {
       "output_type": "stream",
       "stream": "stdout",
       "text": [
        "-0.150; -78.350 "
       ]
      },
      {
       "output_type": "stream",
       "stream": "stdout",
       "text": [
        "-12.0433; -77.0283 "
       ]
      },
      {
       "output_type": "stream",
       "stream": "stdout",
       "text": [
        "9.0300; 38.7400 "
       ]
      },
      {
       "output_type": "stream",
       "stream": "stdout",
       "text": [
        "2.033; 45.350 "
       ]
      },
      {
       "output_type": "stream",
       "stream": "stdout",
       "text": [
        "33.667; 73.167 "
       ]
      },
      {
       "output_type": "stream",
       "stream": "stdout",
       "text": [
        "28.6133; 77.2083 "
       ]
      },
      {
       "output_type": "stream",
       "stream": "stdout",
       "text": [
        "12.333; -1.667 "
       ]
      },
      {
       "output_type": "stream",
       "stream": "stdout",
       "text": [
        "12.650; -8.000 "
       ]
      },
      {
       "output_type": "stream",
       "stream": "stdout",
       "text": [
        "28.6133; 77.2083 "
       ]
      },
      {
       "output_type": "stream",
       "stream": "stdout",
       "text": [
        "39.917; 116.383 "
       ]
      },
      {
       "output_type": "stream",
       "stream": "stdout",
       "text": [
        "13.750; 100.483 "
       ]
      },
      {
       "output_type": "stream",
       "stream": "stdout",
       "text": [
        "17.967; 102.600 "
       ]
      },
      {
       "output_type": "stream",
       "stream": "stdout",
       "text": [
        "18.150; -15.967 "
       ]
      },
      {
       "output_type": "stream",
       "stream": "stdout",
       "text": [
        "14.667; -17.417 "
       ]
      },
      {
       "output_type": "stream",
       "stream": "stdout",
       "text": [
        "-0.150; -78.350 "
       ]
      },
      {
       "output_type": "stream",
       "stream": "stdout",
       "text": [
        "-12.0433; -77.0283 "
       ]
      },
      {
       "output_type": "stream",
       "stream": "stdout",
       "text": [
        "9.0300; 38.7400 "
       ]
      },
      {
       "output_type": "stream",
       "stream": "stdout",
       "text": [
        "15.333; 38.917 "
       ]
      },
      {
       "output_type": "stream",
       "stream": "stdout",
       "text": [
        "28.6133; 77.2083 "
       ]
      },
      {
       "output_type": "stream",
       "stream": "stdout",
       "text": [
        "33.667; 73.167 "
       ]
      },
      {
       "output_type": "stream",
       "stream": "stdout",
       "text": [
        "31; 35 "
       ]
      },
      {
       "output_type": "stream",
       "stream": "stdout",
       "text": [
        "33.900; 35.533 "
       ]
      },
      {
       "output_type": "stream",
       "stream": "stdout",
       "text": [
        "28.6133; 77.2083 "
       ]
      },
      {
       "output_type": "stream",
       "stream": "stdout",
       "text": [
        "23.700; 90.350 "
       ]
      },
      {
       "output_type": "stream",
       "stream": "stdout",
       "text": [
        "11.600; 43.167 "
       ]
      },
      {
       "output_type": "stream",
       "stream": "stdout",
       "text": [
        "15.333; 38.917 "
       ]
      },
      {
       "output_type": "stream",
       "stream": "stdout",
       "text": [
        "11.550; 104.917 "
       ]
      },
      {
       "output_type": "stream",
       "stream": "stdout",
       "text": [
        "13.750; 100.483 "
       ]
      },
      {
       "output_type": "stream",
       "stream": "stdout",
       "text": [
        "15.633; 32.533 "
       ]
      },
      {
       "output_type": "stream",
       "stream": "stdout",
       "text": [
        "4.850; 31.600 "
       ]
      },
      {
       "output_type": "stream",
       "stream": "stdout",
       "text": [
        "39.917; 32.833 "
       ]
      },
      {
       "output_type": "stream",
       "stream": "stdout",
       "text": [
        "33.500; 36.300\n"
       ]
      }
     ],
     "prompt_number": 24
    },
    {
     "cell_type": "markdown",
     "metadata": {},
     "source": [
      "The element is a text (\"number; number\")...we need to get each number:"
     ]
    },
    {
     "cell_type": "code",
     "collapsed": false,
     "input": [
      "for eachTable in allTables:\n",
      "        allRows=eachTable.find_all(\"tr\")   # tr stands for table rows\n",
      "        for eachRow in range(1,len(allRows)): #when I visit a table, I jump the first row\n",
      "            allCells = allRows[eachRow].find_all(\"td\") # td stands for table data, organized in cells.\n",
      "            start=allCells[0].get_text()\n",
      "            end=allCells[1].get_text()\n",
      "            name=allCells[2].get_text()\n",
      "            fatalities=allCells[4].get_text()\n",
      "            countries=[country.string for country in allCells[3].find_all('a')]\n",
      "            linksEachCountry=['http://en.wikipedia.org'+country.get('href') for country in allCells[3].find_all('a')] \n",
      "            for link in linksEachCountry:\n",
      "                if link=='http://en.wikipedia.org/wiki/Soviet_Union':  #notice this!\n",
      "                    link='http://en.wikipedia.org/wiki/Russia'\n",
      "                externalWiki= urllib2.urlopen(link)\n",
      "                subSoup = BS(externalWiki)\n",
      "                coords=subSoup.find_all(\"span\",{'class': 'geo'})[0].string\n",
      "                \n",
      "                #start - coded added\n",
      "                lati,longi=coords.string.split('; ')  #using \";\" to divide the element in two!\n",
      "                print \"LAT:\",lati,\"LON:\",longi\n",
      "                ##end  - code added"
     ],
     "language": "python",
     "metadata": {},
     "outputs": [
      {
       "output_type": "stream",
       "stream": "stdout",
       "text": [
        "LAT: 38.883 LON: -77.017\n",
        "LAT:"
       ]
      },
      {
       "output_type": "stream",
       "stream": "stdout",
       "text": [
        " 19.433 LON: -99.133\n",
        "LAT:"
       ]
      },
      {
       "output_type": "stream",
       "stream": "stdout",
       "text": [
        " -33.433 LON: -70.667\n",
        "LAT:"
       ]
      },
      {
       "output_type": "stream",
       "stream": "stdout",
       "text": [
        " -16.712 LON: -64.666\n",
        "LAT:"
       ]
      },
      {
       "output_type": "stream",
       "stream": "stdout",
       "text": [
        " -12.0433 LON: -77.0283\n",
        "LAT:"
       ]
      },
      {
       "output_type": "stream",
       "stream": "stdout",
       "text": [
        " 38.883 LON: -77.017\n",
        "LAT:"
       ]
      },
      {
       "output_type": "stream",
       "stream": "stdout",
       "text": [
        " 19.433 LON: -99.133\n",
        "LAT:"
       ]
      },
      {
       "output_type": "stream",
       "stream": "stdout",
       "text": [
        " -16.712 LON: -64.666\n",
        "LAT:"
       ]
      },
      {
       "output_type": "stream",
       "stream": "stdout",
       "text": [
        " -25.267 LON: -57.667\n",
        "LAT:"
       ]
      },
      {
       "output_type": "stream",
       "stream": "stdout",
       "text": [
        " 60 LON: 90\n",
        "LAT:"
       ]
      },
      {
       "output_type": "stream",
       "stream": "stdout",
       "text": [
        " 35.683 LON: 139.767\n",
        "LAT:"
       ]
      },
      {
       "output_type": "stream",
       "stream": "stdout",
       "text": [
        " 48.150 LON: 17.117\n",
        "LAT:"
       ]
      },
      {
       "output_type": "stream",
       "stream": "stdout",
       "text": [
        " 47.433 LON: 19.250\n",
        "LAT:"
       ]
      },
      {
       "output_type": "stream",
       "stream": "stdout",
       "text": [
        " 60 LON: 90\n",
        "LAT:"
       ]
      },
      {
       "output_type": "stream",
       "stream": "stdout",
       "text": [
        " 47.917 LON: 106.883\n",
        "LAT:"
       ]
      },
      {
       "output_type": "stream",
       "stream": "stdout",
       "text": [
        " 35.683 LON: 139.767\n",
        "LAT:"
       ]
      },
      {
       "output_type": "stream",
       "stream": "stdout",
       "text": [
        " 43.883 LON: 125.317\n",
        "LAT:"
       ]
      },
      {
       "output_type": "stream",
       "stream": "stdout",
       "text": [
        " 33.667 LON: 73.167\n",
        "LAT:"
       ]
      },
      {
       "output_type": "stream",
       "stream": "stdout",
       "text": [
        " 28.6133 LON: 77.2083\n",
        "LAT:"
       ]
      },
      {
       "output_type": "stream",
       "stream": "stdout",
       "text": [
        " 37.550 LON: 126.967\n",
        "LAT:"
       ]
      },
      {
       "output_type": "stream",
       "stream": "stdout",
       "text": [
        " 40.000 LON: 127.000\n",
        "LAT:"
       ]
      },
      {
       "output_type": "stream",
       "stream": "stdout",
       "text": [
        " 39.917 LON: 116.383\n",
        "LAT:"
       ]
      },
      {
       "output_type": "stream",
       "stream": "stdout",
       "text": [
        " 28.6133 LON: 77.2083\n",
        "LAT:"
       ]
      },
      {
       "output_type": "stream",
       "stream": "stdout",
       "text": [
        " 33.667 LON: 73.167\n",
        "LAT:"
       ]
      },
      {
       "output_type": "stream",
       "stream": "stdout",
       "text": [
        " 28.6133 LON: 77.2083\n",
        "LAT:"
       ]
      },
      {
       "output_type": "stream",
       "stream": "stdout",
       "text": [
        " -8.833 LON: 13.333\n",
        "LAT:"
       ]
      },
      {
       "output_type": "stream",
       "stream": "stdout",
       "text": [
        " -30 LON: 25\n",
        "LAT:"
       ]
      },
      {
       "output_type": "stream",
       "stream": "stdout",
       "text": [
        " 28.6133 LON: 77.2083\n",
        "LAT:"
       ]
      },
      {
       "output_type": "stream",
       "stream": "stdout",
       "text": [
        " 39.917 LON: 116.383\n",
        "LAT:"
       ]
      },
      {
       "output_type": "stream",
       "stream": "stdout",
       "text": [
        " 39.917 LON: 116.383\n",
        "LAT:"
       ]
      },
      {
       "output_type": "stream",
       "stream": "stdout",
       "text": [
        " 60 LON: 90\n",
        "LAT:"
       ]
      },
      {
       "output_type": "stream",
       "stream": "stdout",
       "text": [
        " 33.667 LON: 73.167\n",
        "LAT:"
       ]
      },
      {
       "output_type": "stream",
       "stream": "stdout",
       "text": [
        " 28.6133 LON: 77.2083\n",
        "LAT:"
       ]
      },
      {
       "output_type": "stream",
       "stream": "stdout",
       "text": [
        " 21.033 LON: 105.850\n",
        "LAT:"
       ]
      },
      {
       "output_type": "stream",
       "stream": "stdout",
       "text": [
        " 39.917 LON: 116.383\n",
        "LAT:"
       ]
      },
      {
       "output_type": "stream",
       "stream": "stdout",
       "text": [
        " 32 LON: 53\n",
        "LAT:"
       ]
      },
      {
       "output_type": "stream",
       "stream": "stdout",
       "text": [
        " 33.333 LON: 44.433\n",
        "LAT:"
       ]
      },
      {
       "output_type": "stream",
       "stream": "stdout",
       "text": [
        " -0.150 LON: -78.350\n",
        "LAT:"
       ]
      },
      {
       "output_type": "stream",
       "stream": "stdout",
       "text": [
        " -12.0433 LON: -77.0283\n",
        "LAT:"
       ]
      },
      {
       "output_type": "stream",
       "stream": "stdout",
       "text": [
        " 9.0300 LON: 38.7400\n",
        "LAT:"
       ]
      },
      {
       "output_type": "stream",
       "stream": "stdout",
       "text": [
        " 2.033 LON: 45.350\n",
        "LAT:"
       ]
      },
      {
       "output_type": "stream",
       "stream": "stdout",
       "text": [
        " 33.667 LON: 73.167\n",
        "LAT:"
       ]
      },
      {
       "output_type": "stream",
       "stream": "stdout",
       "text": [
        " 28.6133 LON: 77.2083\n",
        "LAT:"
       ]
      },
      {
       "output_type": "stream",
       "stream": "stdout",
       "text": [
        " 12.333 LON: -1.667\n",
        "LAT:"
       ]
      },
      {
       "output_type": "stream",
       "stream": "stdout",
       "text": [
        " 12.650 LON: -8.000\n",
        "LAT:"
       ]
      },
      {
       "output_type": "stream",
       "stream": "stdout",
       "text": [
        " 28.6133 LON: 77.2083\n",
        "LAT:"
       ]
      },
      {
       "output_type": "stream",
       "stream": "stdout",
       "text": [
        " 39.917 LON: 116.383\n",
        "LAT:"
       ]
      },
      {
       "output_type": "stream",
       "stream": "stdout",
       "text": [
        " 13.750 LON: 100.483\n",
        "LAT:"
       ]
      },
      {
       "output_type": "stream",
       "stream": "stdout",
       "text": [
        " 17.967 LON: 102.600\n",
        "LAT:"
       ]
      },
      {
       "output_type": "stream",
       "stream": "stdout",
       "text": [
        " 18.150 LON: -15.967\n",
        "LAT:"
       ]
      },
      {
       "output_type": "stream",
       "stream": "stdout",
       "text": [
        " 14.667 LON: -17.417\n",
        "LAT:"
       ]
      },
      {
       "output_type": "stream",
       "stream": "stdout",
       "text": [
        " -0.150 LON: -78.350\n",
        "LAT:"
       ]
      },
      {
       "output_type": "stream",
       "stream": "stdout",
       "text": [
        " -12.0433 LON: -77.0283\n",
        "LAT:"
       ]
      },
      {
       "output_type": "stream",
       "stream": "stdout",
       "text": [
        " 9.0300 LON: 38.7400\n",
        "LAT:"
       ]
      },
      {
       "output_type": "stream",
       "stream": "stdout",
       "text": [
        " 15.333 LON: 38.917\n",
        "LAT:"
       ]
      },
      {
       "output_type": "stream",
       "stream": "stdout",
       "text": [
        " 28.6133 LON: 77.2083\n",
        "LAT:"
       ]
      },
      {
       "output_type": "stream",
       "stream": "stdout",
       "text": [
        " 33.667 LON: 73.167\n",
        "LAT:"
       ]
      },
      {
       "output_type": "stream",
       "stream": "stdout",
       "text": [
        " 31 LON: 35\n",
        "LAT:"
       ]
      },
      {
       "output_type": "stream",
       "stream": "stdout",
       "text": [
        " 33.900 LON: 35.533\n",
        "LAT:"
       ]
      },
      {
       "output_type": "stream",
       "stream": "stdout",
       "text": [
        " 28.6133 LON: 77.2083\n",
        "LAT:"
       ]
      },
      {
       "output_type": "stream",
       "stream": "stdout",
       "text": [
        " 23.700 LON: 90.350\n",
        "LAT:"
       ]
      },
      {
       "output_type": "stream",
       "stream": "stdout",
       "text": [
        " 11.600 LON: 43.167\n",
        "LAT:"
       ]
      },
      {
       "output_type": "stream",
       "stream": "stdout",
       "text": [
        " 15.333 LON: 38.917\n",
        "LAT:"
       ]
      },
      {
       "output_type": "stream",
       "stream": "stdout",
       "text": [
        " 11.550 LON: 104.917\n",
        "LAT:"
       ]
      },
      {
       "output_type": "stream",
       "stream": "stdout",
       "text": [
        " 13.750 LON: 100.483\n",
        "LAT:"
       ]
      },
      {
       "output_type": "stream",
       "stream": "stdout",
       "text": [
        " 15.633 LON: 32.533\n",
        "LAT:"
       ]
      },
      {
       "output_type": "stream",
       "stream": "stdout",
       "text": [
        " 4.850 LON: 31.600\n",
        "LAT:"
       ]
      },
      {
       "output_type": "stream",
       "stream": "stdout",
       "text": [
        " 39.917 LON: 32.833\n",
        "LAT:"
       ]
      },
      {
       "output_type": "stream",
       "stream": "stdout",
       "text": [
        " 33.500 LON: 36.300\n"
       ]
      }
     ],
     "prompt_number": 25
    },
    {
     "cell_type": "markdown",
     "metadata": {},
     "source": [
      "Now we need just to make sure we can related each coordinate to the country (and the rest of the information):"
     ]
    },
    {
     "cell_type": "code",
     "collapsed": false,
     "input": [
      "for eachTable in allTables:\n",
      "        allRows=eachTable.find_all(\"tr\")   # tr stands for table rows\n",
      "        for eachRow in range(1,len(allRows)): #when I visit a table, I jump the first row\n",
      "            allCells = allRows[eachRow].find_all(\"td\") # td stands for table data, organized in cells.\n",
      "            start=allCells[0].get_text()\n",
      "            end=allCells[1].get_text()\n",
      "            name=allCells[2].get_text()\n",
      "            fatalities=allCells[4].get_text()\n",
      "            countries=[country.get_text() for country in allCells[3].find_all('a')]\n",
      "            linksEachCountry=['http://en.wikipedia.org'+country.get('href') for country in allCells[3].find_all('a')] \n",
      "            \n",
      "            coords=[]     #line added\n",
      "            \n",
      "            for link in linksEachCountry:\n",
      "                if link=='http://en.wikipedia.org/wiki/Soviet_Union':  #notice this!\n",
      "                    link='http://en.wikipedia.org/wiki/Russia'\n",
      "                externalWiki= urllib2.urlopen(link)\n",
      "                subSoup = BS(externalWiki)\n",
      "                lati,longi=subSoup.find_all(\"span\",{'class': 'geo'})[0].string.split('; ')  #modified\n",
      "                \n",
      "            #start - coded added\n",
      "                coords.append((float(lati),float(longi))) \n",
      "            countryInfo=zip(countries,coords)         \n",
      "            print [name,countryInfo] \n",
      "            ##end  - code added            "
     ],
     "language": "python",
     "metadata": {},
     "outputs": [
      {
       "output_type": "stream",
       "stream": "stdout",
       "text": [
        "[u'Mexican\\u2013American War', [(u'United States', (38.883, -77.017)), (u'Mexico', (19.433, -99.133))]]\n",
        "[u'War of the Pacific', [(u'Chile', (-33.433, -70.667)), (u'Bolivia', (-16.712, -64.666)), (u'Peru', (-12.0433, -77.0283))]]"
       ]
      },
      {
       "output_type": "stream",
       "stream": "stdout",
       "text": [
        "\n",
        "[u'Border War', [(u'United States', (38.883, -77.017)), (u'Mexico', (19.433, -99.133))]]"
       ]
      },
      {
       "output_type": "stream",
       "stream": "stdout",
       "text": [
        "\n",
        "[u'Chaco War', [(u'Bolivia', (-16.712, -64.666)), (u'Paraguay', (-25.267, -57.667))]]"
       ]
      },
      {
       "output_type": "stream",
       "stream": "stdout",
       "text": [
        "\n",
        "[u'Battle of Lake Khasan', [(u'Soviet Union', (60.0, 90.0)), (u'Japan', (35.683, 139.767))]]"
       ]
      },
      {
       "output_type": "stream",
       "stream": "stdout",
       "text": [
        "\n",
        "[u'Slovak\\u2013Hungarian War', [(u'Slovakia', (48.15, 17.117)), (u'Hungary', (47.433, 19.25))]]"
       ]
      },
      {
       "output_type": "stream",
       "stream": "stdout",
       "text": [
        "\n",
        "[u'Battle of Khalkhin Gol', [(u'Soviet Union', (60.0, 90.0)), (u'Mongolia', (47.917, 106.883)), (u'Japan', (35.683, 139.767)), (u'Manchukuo', (43.883, 125.317))]]"
       ]
      },
      {
       "output_type": "stream",
       "stream": "stdout",
       "text": [
        "\n",
        "[u'Indo-Pakistani War of 1947', [(u'Pakistan', (33.667, 73.167)), (u'India', (28.6133, 77.2083))]]"
       ]
      },
      {
       "output_type": "stream",
       "stream": "stdout",
       "text": [
        "\n",
        "[u'Korean War', [(u'South Korea', (37.55, 126.967)), (u'North Korea', (40.0, 127.0))]]"
       ]
      },
      {
       "output_type": "stream",
       "stream": "stdout",
       "text": [
        "\n",
        "[u'Sino-Indian War', [(u'PRC', (39.917, 116.383)), (u'India', (28.6133, 77.2083))]]"
       ]
      },
      {
       "output_type": "stream",
       "stream": "stdout",
       "text": [
        "\n",
        "[u'Indo-Pakistani War of 1965', [(u'Pakistan', (33.667, 73.167)), (u'India', (28.6133, 77.2083))]]"
       ]
      },
      {
       "output_type": "stream",
       "stream": "stdout",
       "text": [
        "\n",
        "[u'South African Border War', [(u'Angola', (-8.833, 13.333)), (u'South Africa', (-30.0, 25.0))]]"
       ]
      },
      {
       "output_type": "stream",
       "stream": "stdout",
       "text": [
        "\n",
        "[u'Chola incident', [(u'India', (28.6133, 77.2083)), (u\"People's Republic of China\", (39.917, 116.383))]]"
       ]
      },
      {
       "output_type": "stream",
       "stream": "stdout",
       "text": [
        "\n",
        "[u'Sino-Soviet border conflict', [(u'PRC', (39.917, 116.383)), (u'Soviet Union', (60.0, 90.0))]]"
       ]
      },
      {
       "output_type": "stream",
       "stream": "stdout",
       "text": [
        "\n",
        "[u'Indo-Pakistani War of 1971', [(u'Pakistan', (33.667, 73.167)), (u'India', (28.6133, 77.2083))]]"
       ]
      },
      {
       "output_type": "stream",
       "stream": "stdout",
       "text": [
        "\n",
        "[u'Sino-Vietnamese conflicts 1979-1990', [(u'Vietnam', (21.033, 105.85)), (u'China', (39.917, 116.383))]]"
       ]
      },
      {
       "output_type": "stream",
       "stream": "stdout",
       "text": [
        "\n",
        "[u'Iran\\u2013Iraq War', [(u'Iran', (32.0, 53.0)), (u'Iraq', (33.333, 44.433))]]"
       ]
      },
      {
       "output_type": "stream",
       "stream": "stdout",
       "text": [
        "\n",
        "[u'Paquisha War', [(u'Ecuador', (-0.15, -78.35)), (u'Peru', (-12.0433, -77.0283))]]"
       ]
      },
      {
       "output_type": "stream",
       "stream": "stdout",
       "text": [
        "\n",
        "[u'1982 Ethiopian\\u2013Somali Border War', [(u'Ethiopia', (9.03, 38.74)), (u'Somalia', (2.033, 45.35))]]"
       ]
      },
      {
       "output_type": "stream",
       "stream": "stdout",
       "text": [
        "\n",
        "[u'Siachen Conflict', [(u'Pakistan', (33.667, 73.167)), (u'India', (28.6133, 77.2083))]]"
       ]
      },
      {
       "output_type": "stream",
       "stream": "stdout",
       "text": [
        "\n",
        "[u'Agacher Strip War', [(u'Burkina Faso', (12.333, -1.667)), (u'Mali', (12.65, -8.0))]]"
       ]
      },
      {
       "output_type": "stream",
       "stream": "stdout",
       "text": [
        "\n",
        "[u'1987 Sino-Indian skirmish', [(u'India', (28.6133, 77.2083)), (u\"People's Republic of China\", (39.917, 116.383))]]"
       ]
      },
      {
       "output_type": "stream",
       "stream": "stdout",
       "text": [
        "\n",
        "[u'Thai\\u2013Laotian Border War', [(u'Thailand', (13.75, 100.483)), (u'Laos', (17.967, 102.6))]]"
       ]
      },
      {
       "output_type": "stream",
       "stream": "stdout",
       "text": [
        "\n",
        "[u'Mauritania\\u2013Senegal Border War', [(u'Mauritania', (18.15, -15.967)), (u'Senegal', (14.667, -17.417))]]"
       ]
      },
      {
       "output_type": "stream",
       "stream": "stdout",
       "text": [
        "\n",
        "[u'Cenepa War', [(u'Ecuador', (-0.15, -78.35)), (u'Peru', (-12.0433, -77.0283))]]"
       ]
      },
      {
       "output_type": "stream",
       "stream": "stdout",
       "text": [
        "\n",
        "[u'Eritrean-Ethiopian War', [(u'Ethiopia', (9.03, 38.74)), (u'Eritrea', (15.333, 38.917))]]"
       ]
      },
      {
       "output_type": "stream",
       "stream": "stdout",
       "text": [
        "\n",
        "[u'Kargil War', [(u'India', (28.6133, 77.2083)), (u'Pakistan', (33.667, 73.167))]]"
       ]
      },
      {
       "output_type": "stream",
       "stream": "stdout",
       "text": [
        "\n",
        "[u'2000-2006 Shebaa Farms conflict', [(u'Israel', (31.0, 35.0)), (u'Lebanon', (33.9, 35.533))]]"
       ]
      },
      {
       "output_type": "stream",
       "stream": "stdout",
       "text": [
        "\n",
        "[u'2001 Indian\\u2013Bangladeshi border conflict', [(u'India', (28.6133, 77.2083)), (u'Bangladesh', (23.7, 90.35))]]"
       ]
      },
      {
       "output_type": "stream",
       "stream": "stdout",
       "text": [
        "\n",
        "[u'2008 Djiboutian\\u2013Eritrean border conflict', [(u'Djibouti', (11.6, 43.167)), (u'Eritrea', (15.333, 38.917))]]"
       ]
      },
      {
       "output_type": "stream",
       "stream": "stdout",
       "text": [
        "\n",
        "[u'Cambodian\\u2013Thai border dispute', [(u'Cambodia', (11.55, 104.917)), (u'Thailand', (13.75, 100.483))]]"
       ]
      },
      {
       "output_type": "stream",
       "stream": "stdout",
       "text": [
        "\n",
        "[u'2012 South Sudan\\u2013Sudan border conflict', [(u'Sudan', (15.633, 32.533)), (u'South Sudan', (4.85, 31.6))]]"
       ]
      },
      {
       "output_type": "stream",
       "stream": "stdout",
       "text": [
        "\n",
        "[u'2012 Syrian\\u2013Turkish border clashes', [(u'Turkey', (39.917, 32.833)), (u'Syria', (33.5, 36.3))]]"
       ]
      },
      {
       "output_type": "stream",
       "stream": "stdout",
       "text": [
        "\n"
       ]
      }
     ],
     "prompt_number": 26
    },
    {
     "cell_type": "markdown",
     "metadata": {},
     "source": [
      "As you see, I use the zip function in Python, which eases our job. See an example below if you are not familiar with it:"
     ]
    },
    {
     "cell_type": "code",
     "collapsed": false,
     "input": [
      "coordinates=[(1,2),(4,9),(61,3.0)]\n",
      "countryNames=['USA','PRC','UAE']\n",
      "zip(countryNames,coordinates)"
     ],
     "language": "python",
     "metadata": {},
     "outputs": [
      {
       "metadata": {},
       "output_type": "pyout",
       "prompt_number": 27,
       "text": [
        "[('USA', (1, 2)), ('PRC', (4, 9)), ('UAE', (61, 3.0))]"
       ]
      }
     ],
     "prompt_number": 27
    },
    {
     "cell_type": "heading",
     "level": 2,
     "metadata": {},
     "source": [
      "LET'S MAKE A NETWORK"
     ]
    },
    {
     "cell_type": "markdown",
     "metadata": {},
     "source": [
      "With everything we have done so far, we are just a step away to build a network. First, let's get the libraries needed:"
     ]
    },
    {
     "cell_type": "code",
     "collapsed": false,
     "input": [
      "from itertools import combinations\n",
      "import networkx as nx"
     ],
     "language": "python",
     "metadata": {},
     "outputs": [],
     "prompt_number": 28
    },
    {
     "cell_type": "code",
     "collapsed": false,
     "input": [
      "#empty graph creation\n",
      "countriesGraph=nx.Graph()  #new code"
     ],
     "language": "python",
     "metadata": {},
     "outputs": [],
     "prompt_number": 29
    },
    {
     "cell_type": "code",
     "collapsed": false,
     "input": [
      "#getting data for nodes and edges\n",
      "allTables = soup.findAll('table', {'class': 'sortable wikitable'})\n",
      "for eachTable in allTables:\n",
      "        allRows=eachTable.find_all(\"tr\")\n",
      "        for eachRow in range(1,len(allRows)):\n",
      "            allCells = allRows[eachRow].find_all(\"td\")\n",
      "            start=allCells[0].get_text()\n",
      "            end=allCells[1].get_text()\n",
      "            name=allCells[2].get_text()\n",
      "            countries=[country.get_text() for country in allCells[3].find_all('a')]\n",
      "            \n",
      "            ##start-code added\n",
      "            \n",
      "            #some cleaning\n",
      "            countries=['China' if country==\"PRC\" or country==\"People's Republic of China\" else country for country in countries]\n",
      "            \n",
      "            #adding nodes (vertices)\n",
      "            countriesGraph.add_nodes_from(countries)\n",
      "            \n",
      "            #adding edges\n",
      "            countriesGraph.add_edges_from(combinations (countries,2))\n",
      "            \n",
      "            ##start-code added"
     ],
     "language": "python",
     "metadata": {},
     "outputs": [],
     "prompt_number": 30
    },
    {
     "cell_type": "code",
     "collapsed": false,
     "input": [
      "print countriesGraph.nodes()"
     ],
     "language": "python",
     "metadata": {},
     "outputs": [
      {
       "output_type": "stream",
       "stream": "stdout",
       "text": [
        "[u'Turkey', u'Bangladesh', u'Eritrea', u'Sudan', u'Lebanon', u'Mali', u'Mongolia', u'Ethiopia', u'Slovakia', u'Somalia', u'Peru', u'Laos', u'Bolivia', u'Burkina Faso', u'Ecuador', u'Manchukuo', u'Israel', u'Iran', u'Djibouti', 'China', u'Chile', u'Thailand', u'Iraq', u'Mauritania', u'North Korea', u'Vietnam', u'Cambodia', u'Japan', u'Syria', u'Soviet Union', u'Pakistan', u'Angola', u'Mexico', u'South Africa', u'India', u'Senegal', u'Paraguay', u'Hungary', u'South Korea', u'United States', u'South Sudan']\n"
       ]
      }
     ],
     "prompt_number": 31
    },
    {
     "cell_type": "code",
     "collapsed": false,
     "input": [
      "print countriesGraph.edges()"
     ],
     "language": "python",
     "metadata": {},
     "outputs": [
      {
       "output_type": "stream",
       "stream": "stdout",
       "text": [
        "[(u'Turkey', u'Syria'), (u'Bangladesh', u'India'), (u'Eritrea', u'Ethiopia'), (u'Eritrea', u'Djibouti'), (u'Sudan', u'South Sudan'), (u'Lebanon', u'Israel'), (u'Mali', u'Burkina Faso'), (u'Mongolia', u'Manchukuo'), (u'Mongolia', u'Japan'), (u'Mongolia', u'Soviet Union'), (u'Ethiopia', u'Somalia'), (u'Slovakia', u'Hungary'), (u'Peru', u'Bolivia'), (u'Peru', u'Ecuador'), (u'Peru', u'Chile'), (u'Laos', u'Thailand'), (u'Bolivia', u'Paraguay'), (u'Bolivia', u'Chile'), (u'Manchukuo', u'Japan'), (u'Manchukuo', u'Soviet Union'), (u'Iran', u'Iraq'), ('China', u'Vietnam'), ('China', u'India'), ('China', u'Soviet Union'), (u'Thailand', u'Cambodia'), (u'Mauritania', u'Senegal'), (u'North Korea', u'South Korea'), (u'Japan', u'Soviet Union'), (u'Pakistan', u'India'), (u'Angola', u'South Africa'), (u'Mexico', u'United States')]\n"
       ]
      }
     ],
     "prompt_number": 32
    },
    {
     "cell_type": "markdown",
     "metadata": {},
     "source": [
      "Let's do some plotting:"
     ]
    },
    {
     "cell_type": "code",
     "collapsed": false,
     "input": [
      "import matplotlib.pyplot as plot\n",
      "import pandas as pd\n",
      "%matplotlib inline"
     ],
     "language": "python",
     "metadata": {},
     "outputs": [],
     "prompt_number": 33
    },
    {
     "cell_type": "code",
     "collapsed": false,
     "input": [
      "#centrality measures\n",
      "nodeDegree=nx.degree_centrality(countriesGraph)\n",
      "nodeBetweenness=nx.betweenness_centrality(countriesGraph)\n",
      "nodeCloseness=nx.closeness_centrality(countriesGraph)"
     ],
     "language": "python",
     "metadata": {},
     "outputs": [],
     "prompt_number": 34
    },
    {
     "cell_type": "code",
     "collapsed": false,
     "input": [
      "#dataFrame for Pandas\n",
      "Centrality=[ [country, nodeDegree[country],nodeCloseness[country],nodeBetweenness[country]] for country in countriesGraph]\n",
      "headers=['Country','Degree','Closeness','Betweenness']\n",
      "DFCentrality=pd.DataFrame(Centrality,columns=headers)"
     ],
     "language": "python",
     "metadata": {},
     "outputs": [],
     "prompt_number": 35
    },
    {
     "cell_type": "code",
     "collapsed": false,
     "input": [
      "plot.figure(1)\n",
      "plot.scatter(DFCentrality.Betweenness, DFCentrality.Closeness,s=DFCentrality.Degree*1000, alpha=0.6)\n",
      "plot.title(\"scatterplot (size of dot represents degree of node)\")\n",
      "plot.xlabel(\"betweenness\")\n",
      "plot.ylabel(\"closeness\")\n",
      "plot.show()"
     ],
     "language": "python",
     "metadata": {},
     "outputs": [
      {
       "metadata": {},
       "output_type": "display_data",
       "png": "[encoded data removed]",
       "text": [
        "<matplotlib.figure.Figure at 0x10dcb1850>"
       ]
      }
     ],
     "prompt_number": 36
    },
    {
     "cell_type": "code",
     "collapsed": false,
     "input": [
      "scatter= pd.scatter_matrix(DFCentrality, diagonal='kde')\n",
      "plot.show()"
     ],
     "language": "python",
     "metadata": {},
     "outputs": [
      {
       "metadata": {},
       "output_type": "display_data",
       "png": "[encoded data removed]",
       "text": [
        "<matplotlib.figure.Figure at 0x10dcd1c90>"
       ]
      }
     ],
     "prompt_number": 37
    },
    {
     "cell_type": "code",
     "collapsed": false,
     "input": [
      "plot.figure(4)\n",
      "bp = DFCentrality.boxplot()\n",
      "plot.show()"
     ],
     "language": "python",
     "metadata": {},
     "outputs": [
      {
       "metadata": {},
       "output_type": "display_data",
       "png": "[encoded data removed]",
       "text": [
        "<matplotlib.figure.Figure at 0x10eb5c310>"
       ]
      }
     ],
     "prompt_number": 38
    },
    {
     "cell_type": "code",
     "collapsed": false,
     "input": [
      "plot.figure(5)\n",
      "nx.draw(countriesGraph)\n",
      "plot.show()"
     ],
     "language": "python",
     "metadata": {},
     "outputs": [
      {
       "metadata": {},
       "output_type": "display_data",
       "png": "[encoded data removed]",
       "text": [
        "<matplotlib.figure.Figure at 0x1112d7690>"
       ]
      }
     ],
     "prompt_number": 39
    },
    {
     "cell_type": "markdown",
     "metadata": {},
     "source": [
      "In the next tutorial I will do some deep cleaning to these data to export a file into R and Gephi."
     ]
    }
   ],
   "metadata": {}
  }
 ]
}